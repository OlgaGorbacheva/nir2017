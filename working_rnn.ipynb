{
 "cells": [
  {
   "cell_type": "code",
   "execution_count": 1,
   "metadata": {
    "collapsed": false
   },
   "outputs": [],
   "source": [
    "%matplotlib inline\n",
    "import numpy as np\n",
    "import pandas as pd\n",
    "import tensorflow as tf\n",
    "from matplotlib import pyplot as plt\n",
    "from tensorflow.python.framework import dtypes\n",
    "\n",
    "from tensorflow.contrib import learn\n",
    "from sklearn.metrics import mean_squared_error, mean_absolute_error"
   ]
  },
  {
   "cell_type": "code",
   "execution_count": 2,
   "metadata": {
    "collapsed": false
   },
   "outputs": [],
   "source": [
    "#LOG_DIR = './ops_logs'\n",
    "n_step = 5\n",
    "rnn_layers = [{'steps': n_step}]\n",
    "#dense_layers = [10, 10]\n",
    "dense_layers = 0\n",
    "n_iter = 10000\n",
    "batch_size = 100\n",
    "display_st = n_iter / 100"
   ]
  },
  {
   "cell_type": "code",
   "execution_count": 3,
   "metadata": {
    "collapsed": false
   },
   "outputs": [],
   "source": [
    "def prepare_data_x(data, time_steps, test_size=0.1):\n",
    "    ntest = int(round(len(data) * (1 - test_size)))\n",
    "    df_train, df_test = data[:ntest], data[ntest:]\n",
    "    rnn_train = []\n",
    "    for i in range(len(df_train) - time_steps):\n",
    "        data_ = df_train[i: i + time_steps]\n",
    "        rnn_train.append(data_ if len(data_.shape) > 1 else [[i] for i in data_])\n",
    "    #print rnn_train\n",
    "    rnn_test = []\n",
    "    for i in range(len(df_test) - time_steps):\n",
    "        data_ = df_test[i: i + time_steps]\n",
    "        rnn_test.append(data_ if len(data_.shape) > 1 else [[i] for i in data_])\n",
    "    return np.array(rnn_train, dtype=\"float32\"), np.array(rnn_test, dtype=\"float32\")"
   ]
  },
  {
   "cell_type": "code",
   "execution_count": 4,
   "metadata": {
    "collapsed": true
   },
   "outputs": [],
   "source": [
    "def prepare_data_y(data, time_steps, test_size=0.1):\n",
    "    ntest = int(round(len(data) * (1 - test_size)))\n",
    "    df_train, df_test = data[:ntest], data[ntest:]\n",
    "    rnn_train = []\n",
    "    for i in range(len(df_train) - time_steps):\n",
    "        rnn_train.append(df_train[i + time_steps])\n",
    "    rnn_test = []\n",
    "    for i in range(len(df_test) - time_steps):\n",
    "        rnn_test.append(df_test[i + time_steps])\n",
    "    return np.array(rnn_train, dtype=\"float32\"), np.array(rnn_test, dtype=\"float32\")"
   ]
  },
  {
   "cell_type": "code",
   "execution_count": 5,
   "metadata": {
    "collapsed": false
   },
   "outputs": [],
   "source": [
    "def generate(fct, x, time_steps):\n",
    "    data = fct(x)\n",
    "    train_x, test_x = prepare_data_x(data, time_steps)\n",
    "    train_y, test_y = prepare_data_y(data, time_steps)\n",
    "    return train_x, test_x, train_y, test_y"
   ]
  },
  {
   "cell_type": "code",
   "execution_count": 6,
   "metadata": {
    "collapsed": true
   },
   "outputs": [],
   "source": [
    "def super_sin(a, b, c):\n",
    "    def _sin(x):\n",
    "        return (np.sin(a*x + b) + c)\n",
    "    return _sin"
   ]
  },
  {
   "cell_type": "code",
   "execution_count": 7,
   "metadata": {
    "collapsed": false,
    "scrolled": true
   },
   "outputs": [
    {
     "name": "stdout",
     "output_type": "stream",
     "text": [
      "995 995 8995 8995\n"
     ]
    },
    {
     "data": {
      "text/plain": [
       "dtype('float32')"
      ]
     },
     "execution_count": 7,
     "metadata": {},
     "output_type": "execute_result"
    }
   ],
   "source": [
    "X_train, X_test, y_train, y_test = generate(super_sin(2, 3, 4), np.linspace(0, 100, 10000), n_step)\n",
    "print len(X_test), len(y_test), len(X_train), len(y_train)\n",
    "y_train.dtype"
   ]
  },
  {
   "cell_type": "code",
   "execution_count": 8,
   "metadata": {
    "collapsed": false
   },
   "outputs": [],
   "source": [
    "def lstm_model(time_steps, rnn_layers, dense_layers=None):\n",
    "    def lstm_cells(layers):\n",
    "        if isinstance(layers[0], dict):\n",
    "            return [tf.nn.rnn_cell.DropoutWrapper(tf.nn.rnn_cell.BasicLSTMCell(layer['steps'],\n",
    "                                                                               state_is_tuple=True),\n",
    "                                                  layer['keep_prob'])\n",
    "                    if layer.get('keep_prob') else tf.nn.rnn_cell.BasicLSTMCell(layer['steps'],\n",
    "                                                                                state_is_tuple=True)\n",
    "                    for layer in layers]\n",
    "        return [tf.nn.rnn_cell.BasicLSTMCell(steps, state_is_tuple=True) for steps in layers]\n",
    "\n",
    "    def dnn_layers(input_layers, layers):\n",
    "        print input_layers\n",
    "        if layers and isinstance(layers, dict):\n",
    "            return learn.ops.dnn(input_layers,\n",
    "                                 layers['layers'],\n",
    "                                 activation=layers.get('activation'),\n",
    "                                 dropout=layers.get('dropout'))\n",
    "        elif layers:\n",
    "            return tf.contrib.layers.fully_connected(input_layers, layers)\n",
    "        else:\n",
    "            return input_layers\n",
    "\n",
    "    def _lstm_model(X, y, mode, params):\n",
    "        stacked_lstm = tf.nn.rnn_cell.MultiRNNCell(lstm_cells(rnn_layers), state_is_tuple=True)\n",
    "        x_ = tf.unstack(X, time_steps, 1, name='unstack')\n",
    "        output, layers = tf.nn.rnn(stacked_lstm, x_, dtype=dtypes.float32)\n",
    "        output = dnn_layers(output[-1], dense_layers)\n",
    "        predictions, mse = learn.models.linear_regression(output, y)\n",
    "        train_op = tf.contrib.layers.optimize_loss(loss=mse,\n",
    "                                                   global_step=tf.contrib.framework.get_global_step(),\n",
    "                                                   learning_rate=params['learning_rate'],\n",
    "                                                   optimizer=params['optimizer'])\n",
    "\n",
    "        return predictions, mse, train_op\n",
    "\n",
    "    return _lstm_model"
   ]
  },
  {
   "cell_type": "code",
   "execution_count": 9,
   "metadata": {
    "collapsed": true
   },
   "outputs": [
    {
     "name": "stdout",
     "output_type": "stream",
     "text": [
      "WARNING:tensorflow:Using temporary folder as model directory: /tmp/tmpzM9cy6\n",
      "INFO:tensorflow:Using default config.\n",
      "INFO:tensorflow:Using config: {'save_summary_steps': 100, '_num_ps_replicas': 0, '_task_type': None, '_environment': 'local', '_is_chief': True, 'save_checkpoints_secs': 600, '_cluster_spec': <tensorflow.python.training.server_lib.ClusterSpec object at 0x7f28ef2d84d0>, 'tf_config': gpu_options {\n",
      "  per_process_gpu_memory_fraction: 1.0\n",
      "}\n",
      ", '_task_id': 0, 'tf_random_seed': None, 'keep_checkpoint_every_n_hours': 10000, '_evaluation_master': '', 'save_checkpoints_steps': None, '_master': '', 'keep_checkpoint_max': 5}\n"
     ]
    }
   ],
   "source": [
    "regressor = learn.SKCompat(learn.Estimator(model_fn=lstm_model(n_step, rnn_layers, dense_layers), \n",
    "                            params={'n_classes':0,\n",
    "                                   'verbose':1,  \n",
    "                                   'steps':n_iter, \n",
    "                                   'optimizer':'Adagrad',\n",
    "                                   'learning_rate':0.03, \n",
    "                                   'batch_size':batch_size\n",
    "                                   }))"
   ]
  },
  {
   "cell_type": "code",
   "execution_count": 10,
   "metadata": {
    "collapsed": true
   },
   "outputs": [
    {
     "name": "stdout",
     "output_type": "stream",
     "text": [
      "Tensor(\"RNN/MultiRNNCell_4/Cell0/BasicLSTMCell/mul_2:0\", shape=(?, 5), dtype=float32)\n",
      "WARNING:tensorflow:From /usr/local/lib/python2.7/dist-packages/tensorflow/contrib/learn/python/learn/models.py:107 in linear_regression.: mean_squared_error_regressor (from tensorflow.contrib.learn.python.learn.ops.losses_ops) is deprecated and will be removed after 2016-12-01.\n",
      "Instructions for updating:\n",
      "Use `tf.contrib.losses.mean_squared_error` and explicit logits computation.\n",
      "INFO:tensorflow:Create CheckpointSaverHook.\n",
      "INFO:tensorflow:loss = 10.954, step = 1\n",
      "INFO:tensorflow:Saving checkpoints for 1 into /tmp/tmpzM9cy6/model.ckpt.\n",
      "WARNING:tensorflow:*******************************************************\n",
      "WARNING:tensorflow:TensorFlow's V1 checkpoint format has been deprecated.\n",
      "WARNING:tensorflow:Consider switching to the more efficient V2 format:\n",
      "WARNING:tensorflow:   `tf.train.Saver(write_version=tf.train.SaverDef.V2)`\n",
      "WARNING:tensorflow:now on by default.\n",
      "WARNING:tensorflow:*******************************************************\n",
      "INFO:tensorflow:loss = 0.304843, step = 101\n",
      "INFO:tensorflow:global_step/sec: 326.542\n",
      "INFO:tensorflow:loss = 0.0417061, step = 201\n",
      "INFO:tensorflow:global_step/sec: 505.28\n",
      "INFO:tensorflow:loss = 0.0150324, step = 301\n",
      "INFO:tensorflow:global_step/sec: 516.19\n",
      "INFO:tensorflow:loss = 0.00719619, step = 401\n",
      "INFO:tensorflow:global_step/sec: 537.762\n",
      "INFO:tensorflow:loss = 0.00664832, step = 501\n",
      "INFO:tensorflow:global_step/sec: 535.441\n",
      "INFO:tensorflow:loss = 0.00644331, step = 601\n",
      "INFO:tensorflow:global_step/sec: 490.47\n",
      "INFO:tensorflow:loss = 0.00611748, step = 701\n",
      "INFO:tensorflow:global_step/sec: 469.435\n",
      "INFO:tensorflow:loss = 0.00517083, step = 801\n",
      "INFO:tensorflow:global_step/sec: 415.098\n",
      "INFO:tensorflow:loss = 0.00632702, step = 901\n",
      "INFO:tensorflow:global_step/sec: 452.53\n",
      "INFO:tensorflow:loss = 0.00530684, step = 1001\n",
      "INFO:tensorflow:global_step/sec: 513.825\n",
      "INFO:tensorflow:loss = 0.00534144, step = 1101\n",
      "INFO:tensorflow:global_step/sec: 426.134\n",
      "INFO:tensorflow:loss = 0.00528316, step = 1201\n",
      "INFO:tensorflow:global_step/sec: 467.366\n",
      "INFO:tensorflow:loss = 0.00484012, step = 1301\n",
      "INFO:tensorflow:global_step/sec: 499.037\n",
      "INFO:tensorflow:loss = 0.00489183, step = 1401\n",
      "INFO:tensorflow:global_step/sec: 507.834\n",
      "INFO:tensorflow:loss = 0.00477061, step = 1501\n",
      "INFO:tensorflow:global_step/sec: 517.737\n",
      "INFO:tensorflow:loss = 0.00453383, step = 1601\n",
      "INFO:tensorflow:global_step/sec: 526.064\n",
      "INFO:tensorflow:loss = 0.00449925, step = 1701\n",
      "INFO:tensorflow:global_step/sec: 439.458\n",
      "INFO:tensorflow:loss = 0.00461252, step = 1801\n",
      "INFO:tensorflow:global_step/sec: 422.749\n",
      "INFO:tensorflow:loss = 0.00418804, step = 1901\n",
      "INFO:tensorflow:global_step/sec: 493.328\n",
      "INFO:tensorflow:loss = 0.00502015, step = 2001\n",
      "INFO:tensorflow:global_step/sec: 537.637\n",
      "INFO:tensorflow:loss = 0.00366125, step = 2101\n",
      "INFO:tensorflow:global_step/sec: 507.55\n",
      "INFO:tensorflow:loss = 0.00314532, step = 2201\n",
      "INFO:tensorflow:global_step/sec: 523.782\n",
      "INFO:tensorflow:loss = 0.00396367, step = 2301\n",
      "INFO:tensorflow:global_step/sec: 519.859\n",
      "INFO:tensorflow:loss = 0.00381018, step = 2401\n",
      "INFO:tensorflow:global_step/sec: 519.983\n",
      "INFO:tensorflow:loss = 0.00316583, step = 2501\n",
      "INFO:tensorflow:global_step/sec: 518.457\n",
      "INFO:tensorflow:loss = 0.00357755, step = 2601\n",
      "INFO:tensorflow:global_step/sec: 517.491\n",
      "INFO:tensorflow:loss = 0.00382943, step = 2701\n",
      "INFO:tensorflow:global_step/sec: 512.261\n",
      "INFO:tensorflow:loss = 0.00384702, step = 2801\n",
      "INFO:tensorflow:global_step/sec: 516.148\n",
      "INFO:tensorflow:loss = 0.00359497, step = 2901\n",
      "INFO:tensorflow:global_step/sec: 523.213\n",
      "INFO:tensorflow:loss = 0.00377155, step = 3001\n",
      "INFO:tensorflow:global_step/sec: 518.349\n",
      "INFO:tensorflow:loss = 0.00396872, step = 3101\n",
      "INFO:tensorflow:global_step/sec: 518.815\n",
      "INFO:tensorflow:loss = 0.00338709, step = 3201\n",
      "INFO:tensorflow:global_step/sec: 482.814\n",
      "INFO:tensorflow:loss = 0.00355556, step = 3301\n",
      "INFO:tensorflow:global_step/sec: 523.33\n",
      "INFO:tensorflow:loss = 0.00294011, step = 3401\n",
      "INFO:tensorflow:global_step/sec: 527.343\n",
      "INFO:tensorflow:loss = 0.00339621, step = 3501\n",
      "INFO:tensorflow:global_step/sec: 508.693\n",
      "INFO:tensorflow:loss = 0.00377546, step = 3601\n",
      "INFO:tensorflow:global_step/sec: 441.388\n",
      "INFO:tensorflow:loss = 0.00350478, step = 3701\n",
      "INFO:tensorflow:global_step/sec: 413.529\n",
      "INFO:tensorflow:loss = 0.00390881, step = 3801\n",
      "INFO:tensorflow:global_step/sec: 471.412\n",
      "INFO:tensorflow:loss = 0.0035, step = 3901\n",
      "INFO:tensorflow:global_step/sec: 479.595\n",
      "INFO:tensorflow:loss = 0.00309721, step = 4001\n",
      "INFO:tensorflow:global_step/sec: 526.704\n",
      "INFO:tensorflow:loss = 0.00309286, step = 4101\n",
      "INFO:tensorflow:global_step/sec: 519.135\n",
      "INFO:tensorflow:loss = 0.00317878, step = 4201\n",
      "INFO:tensorflow:global_step/sec: 508.562\n",
      "INFO:tensorflow:loss = 0.00319501, step = 4301\n",
      "INFO:tensorflow:global_step/sec: 484.524\n",
      "INFO:tensorflow:loss = 0.00298319, step = 4401\n",
      "INFO:tensorflow:global_step/sec: 530.476\n",
      "INFO:tensorflow:loss = 0.00279551, step = 4501\n",
      "INFO:tensorflow:global_step/sec: 507.99\n",
      "INFO:tensorflow:loss = 0.00334314, step = 4601\n",
      "INFO:tensorflow:global_step/sec: 530.941\n",
      "INFO:tensorflow:loss = 0.00294818, step = 4701\n",
      "INFO:tensorflow:global_step/sec: 506.732\n",
      "INFO:tensorflow:loss = 0.00271195, step = 4801\n",
      "INFO:tensorflow:global_step/sec: 505.395\n",
      "INFO:tensorflow:loss = 0.00321643, step = 4901\n",
      "INFO:tensorflow:global_step/sec: 532.28\n",
      "INFO:tensorflow:Saving checkpoints for 5000 into /tmp/tmpzM9cy6/model.ckpt.\n",
      "WARNING:tensorflow:*******************************************************\n",
      "WARNING:tensorflow:TensorFlow's V1 checkpoint format has been deprecated.\n",
      "WARNING:tensorflow:Consider switching to the more efficient V2 format:\n",
      "WARNING:tensorflow:   `tf.train.Saver(write_version=tf.train.SaverDef.V2)`\n",
      "WARNING:tensorflow:now on by default.\n",
      "WARNING:tensorflow:*******************************************************\n",
      "INFO:tensorflow:Loss for final step: 0.00254659.\n"
     ]
    },
    {
     "data": {
      "text/plain": [
       "SKCompat()"
      ]
     },
     "execution_count": 10,
     "metadata": {},
     "output_type": "execute_result"
    }
   ],
   "source": [
    "regressor.fit(X_train, y_train, steps=5000)"
   ]
  },
  {
   "cell_type": "code",
   "execution_count": 11,
   "metadata": {
    "collapsed": true
   },
   "outputs": [
    {
     "name": "stdout",
     "output_type": "stream",
     "text": [
      "Tensor(\"RNN/MultiRNNCell_4/Cell0/BasicLSTMCell/mul_2:0\", shape=(?, 5), dtype=float32)\n",
      "WARNING:tensorflow:From /usr/local/lib/python2.7/dist-packages/tensorflow/contrib/learn/python/learn/models.py:107 in linear_regression.: mean_squared_error_regressor (from tensorflow.contrib.learn.python.learn.ops.losses_ops) is deprecated and will be removed after 2016-12-01.\n",
      "Instructions for updating:\n",
      "Use `tf.contrib.losses.mean_squared_error` and explicit logits computation.\n",
      "INFO:tensorflow:Loading model from checkpoint: /tmp/tmpzM9cy6/model.ckpt-5000-?????-of-00001.\n",
      "Error: 0.002834\n"
     ]
    }
   ],
   "source": [
    "predicted = regressor.predict(X_test)\n",
    "mse = mean_squared_error(y_test, predicted)\n",
    "print (\"Error: %f\" % mse)"
   ]
  },
  {
   "cell_type": "code",
   "execution_count": 12,
   "metadata": {
    "collapsed": false
   },
   "outputs": [
    {
     "data": {
      "image/png": "[encoded data removed]",
      "text/plain": [
       "<matplotlib.figure.Figure at 0x7f28e7854590>"
      ]
     },
     "metadata": {},
     "output_type": "display_data"
    }
   ],
   "source": [
    "plot_predicted, = plt.plot(predicted, label='predicted')\n",
    "plot_test, = plt.plot(y_test, label='test')"
   ]
  },
  {
   "cell_type": "code",
   "execution_count": null,
   "metadata": {
    "collapsed": true
   },
   "outputs": [],
   "source": []
  }
 ],
 "metadata": {
  "kernelspec": {
   "display_name": "Python 2",
   "language": "python",
   "name": "python2"
  },
  "language_info": {
   "codemirror_mode": {
    "name": "ipython",
    "version": 2
   },
   "file_extension": ".py",
   "mimetype": "text/x-python",
   "name": "python",
   "nbconvert_exporter": "python",
   "pygments_lexer": "ipython2",
   "version": "2.7.6"
  }
 },
 "nbformat": 4,
 "nbformat_minor": 1
}
