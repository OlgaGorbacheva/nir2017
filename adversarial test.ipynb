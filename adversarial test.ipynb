{
 "cells": [
  {
   "cell_type": "code",
   "execution_count": 1,
   "metadata": {
    "collapsed": true
   },
   "outputs": [],
   "source": [
    "import numpy as np\n",
    "import pandas as pd\n",
    "import tensorflow as tf\n",
    "import matplotlib.pyplot as plt\n",
    "%matplotlib inline"
   ]
  },
  {
   "cell_type": "code",
   "execution_count": 15,
   "metadata": {
    "collapsed": false
   },
   "outputs": [],
   "source": [
    "TRAIN_SIZE = 100000\n",
    "TEST_SIZE = 100\n",
    "SAMPLE_SIZE = 1000\n",
    "LOWER_PARAM_BOUND = 0.1\n",
    "UPPER_PARAM_BOUND = 10\n",
    "TRAIN_ITERS = TRAIN_SIZE\n",
    "BATCH_SIZE = 1\n",
    "\n",
    "LAYERS_NUM = 3\n",
    "INPUT_SIZE = 4\n",
    "WEIGHT_SIZE = [[INPUT_SIZE, 6], [6, 5], [5, SAMPLE_SIZE]]\n",
    "BIAS_SIZE = [6, 5, SAMPLE_SIZE]"
   ]
  },
  {
   "cell_type": "code",
   "execution_count": 16,
   "metadata": {
    "collapsed": false
   },
   "outputs": [
    {
     "data": {
      "text/plain": [
       "[<matplotlib.lines.Line2D at 0x7f55870f1750>]"
      ]
     },
     "execution_count": 16,
     "metadata": {},
     "output_type": "execute_result"
    },
    {
     "data": {
      "image/png": "[encoded data removed]",
      "text/plain": [
       "<matplotlib.figure.Figure at 0x7f5587676250>"
      ]
     },
     "metadata": {},
     "output_type": "display_data"
    }
   ],
   "source": [
    "def super_sin(a, b, c, d):\n",
    "    def _sin(x):\n",
    "        return (d * np.sin(a * x + b) + c)\n",
    "    return _sin\n",
    "\n",
    "def generate_sample(sample_size, fn):\n",
    "    x = np.linspace(0, 4*3.1415, sample_size)\n",
    "    y = fn(x)\n",
    "    return np.array(y)\n",
    "\n",
    "def generate_set(set_size, sample_size, lower_param_bound, upper_param_bound):\n",
    "    X = []\n",
    "    Y = []\n",
    "    for _ in xrange(set_size):\n",
    "        param = [np.random.uniform(lower_param_bound, upper_param_bound) for _ in xrange(4)]\n",
    "        X.append(np.array(param))\n",
    "        Y.append(generate_sample(sample_size, super_sin(*param)))\n",
    "    return np.array(X), np.array(Y)\n",
    "\n",
    "X_train, y_train = generate_set(TRAIN_SIZE, SAMPLE_SIZE, LOWER_PARAM_BOUND, UPPER_PARAM_BOUND)\n",
    "X_test, y_test = generate_set(TEST_SIZE, SAMPLE_SIZE, LOWER_PARAM_BOUND, UPPER_PARAM_BOUND)\n",
    "a, b = generate_set(1, SAMPLE_SIZE, LOWER_PARAM_BOUND, UPPER_PARAM_BOUND)\n",
    "plt.plot(b[0])"
   ]
  },
  {
   "cell_type": "code",
   "execution_count": 4,
   "metadata": {
    "collapsed": true
   },
   "outputs": [],
   "source": [
    "def mlp(input, output_dim):\n",
    "    w1=tf.get_variable(\"w0\", [input.get_shape()[1], 6], initializer=tf.random_normal_initializer())\n",
    "    b1=tf.get_variable(\"b0\", [6], initializer=tf.constant_initializer(0.0))\n",
    "    w2=tf.get_variable(\"w1\", [6, 5], initializer=tf.random_normal_initializer())\n",
    "    b2=tf.get_variable(\"b1\", [5], initializer=tf.constant_initializer(0.0))\n",
    "    w3=tf.get_variable(\"w2\", [5, output_dim], initializer=tf.random_normal_initializer())\n",
    "    b3=tf.get_variable(\"b2\", [output_dim], initializer=tf.constant_initializer(0.0))\n",
    "    \n",
    "    fc1=tf.nn.tanh(tf.matmul(input,w1) + b1)\n",
    "    fc2=tf.nn.tanh(tf.matmul(fc1,w2) + b2)\n",
    "    fc3=tf.nn.tanh(tf.matmul(fc2,w3) + b3)\n",
    "    return fc3, [w1,b1,w2,b2,w3,b3]"
   ]
  },
  {
   "cell_type": "code",
   "execution_count": 5,
   "metadata": {
    "collapsed": true
   },
   "outputs": [],
   "source": [
    "def momentum_optimizer(loss, var_list): #разобраться с оптимизатором\n",
    "    batch = tf.Variable(0)\n",
    "    learning_rate = tf.train.exponential_decay(\n",
    "        0.001,                \n",
    "        batch,  \n",
    "        TRAIN_ITERS // 4,\n",
    "        0.95,                \n",
    "        staircase=True)\n",
    "    optimizer = tf.train.MomentumOptimizer(learning_rate, 0.6).minimize(loss,global_step = batch, var_list = var_list)\n",
    "    return optimizer"
   ]
  },
  {
   "cell_type": "code",
   "execution_count": 6,
   "metadata": {
    "collapsed": false
   },
   "outputs": [],
   "source": [
    "with tf.variable_scope(\"G\"):\n",
    "    z_node = tf.placeholder(tf.float32, shape = (BATCH_SIZE, INPUT_SIZE)) #вместо 1 можно подставить batch_size\n",
    "    G, theta_g = mlp(z_node, SAMPLE_SIZE)\n",
    "    \n",
    "with tf.variable_scope(\"D\") as scope:\n",
    "    x_node=tf.placeholder(tf.float32, shape=(BATCH_SIZE, SAMPLE_SIZE))\n",
    "    fc, theta_d = mlp(x_node, 1) \n",
    "    D1 = tf.maximum(tf.minimum(fc, 0.99), 0.01)\n",
    "    \n",
    "    scope.reuse_variables()\n",
    "    fc, theta_d = mlp(G, 1)\n",
    "    D2=tf.maximum(tf.minimum(fc,.99), 0.01)\n",
    "    \n",
    "obj_d = tf.reduce_mean(tf.log(D1) + tf.log(1 - D2))\n",
    "obj_g = tf.reduce_mean(tf.log(D2))\n",
    " \n",
    "opt_d = momentum_optimizer(1 - obj_d, theta_d)\n",
    "opt_g = momentum_optimizer(1 - obj_g, theta_g)"
   ]
  },
  {
   "cell_type": "code",
   "execution_count": 7,
   "metadata": {
    "collapsed": true
   },
   "outputs": [],
   "source": [
    "sess = tf.Session()"
   ]
  },
  {
   "cell_type": "code",
   "execution_count": 8,
   "metadata": {
    "collapsed": true
   },
   "outputs": [],
   "source": [
    "#obj_d, opt_d, \n",
    "#, gen_loss[i], _"
   ]
  },
  {
   "cell_type": "code",
   "execution_count": 9,
   "metadata": {
    "collapsed": false
   },
   "outputs": [],
   "source": [
    "dis_loss = np.zeros(TRAIN_SIZE/BATCH_SIZE)\n",
    "gen_loss = np.zeros(TRAIN_SIZE/BATCH_SIZE)\n",
    "sess.run(tf.global_variables_initializer())\n",
    "for i in xrange(TRAIN_SIZE/BATCH_SIZE):\n",
    "    X_batch = X_train[i * BATCH_SIZE:(i + 1) * BATCH_SIZE].reshape((BATCH_SIZE, INPUT_SIZE))\n",
    "    y_batch = y_train[i * BATCH_SIZE:(i + 1) * BATCH_SIZE].reshape((BATCH_SIZE, SAMPLE_SIZE))\n",
    "    gen_loss[i], _ = sess.run(\n",
    "                                         [obj_g, opt_g], \n",
    "                                         feed_dict={z_node: X_batch, x_node: y_batch}\n",
    "                                     )"
   ]
  },
  {
   "cell_type": "code",
   "execution_count": 10,
   "metadata": {
    "collapsed": false,
    "scrolled": true
   },
   "outputs": [
    {
     "data": {
      "text/plain": [
       "[<matplotlib.lines.Line2D at 0x7f559073be50>]"
      ]
     },
     "execution_count": 10,
     "metadata": {},
     "output_type": "execute_result"
    },
    {
     "data": {
      "image/png": "[encoded data removed]",
      "text/plain": [
       "<matplotlib.figure.Figure at 0x7f55913865d0>"
      ]
     },
     "metadata": {},
     "output_type": "display_data"
    }
   ],
   "source": [
    "plt.plot(gen_loss)"
   ]
  },
  {
   "cell_type": "code",
   "execution_count": 11,
   "metadata": {
    "collapsed": false
   },
   "outputs": [],
   "source": [
    "#plt.plot(range(TRAIN_ITERS), dis_loss, label='discriminator loss')"
   ]
  },
  {
   "cell_type": "code",
   "execution_count": null,
   "metadata": {
    "collapsed": true
   },
   "outputs": [],
   "source": [
    "def plot_fig():\n",
    "    # plots pg, pdata, decision boundary \n",
    "    f,ax=plt.subplots(1)\n",
    "    # p_data\n",
    "    ax.plot(X_test[0], label='p_data')\n",
    "\n",
    "    for i in range(r/M):\n",
    "        x=np.reshape(xs[M*i:M*(i+1)],(M,1))\n",
    "        ds[M*i:M*(i+1)]=sess.run(D1,{x_node: x})\n",
    "\n",
    "    ax.plot(xs, ds, label='decision boundary')\n",
    "\n",
    "    zs=np.linspace(-5,5,r)\n",
    "    gs=np.zeros((r,1)) # generator function\n",
    "    for i in range(r/M):\n",
    "        z=np.reshape(zs[M*i:M*(i+1)],(M,1))\n",
    "        gs[M*i:M*(i+1)]=sess.run(G,{z_node: z})\n",
    "    histc, edges = np.histogram(gs, bins = 10)\n",
    "    ax.plot(np.linspace(-5,5,10), histc/float(r), label='p_g')\n",
    "\n",
    "    # ylim, legend\n",
    "    ax.set_ylim(-2, 2)\n",
    "    plt.legend()"
   ]
  },
  {
   "cell_type": "code",
   "execution_count": null,
   "metadata": {
    "collapsed": true
   },
   "outputs": [],
   "source": [
    "plot_fig()"
   ]
  }
 ],
 "metadata": {
  "kernelspec": {
   "display_name": "Python 2",
   "language": "python",
   "name": "python2"
  },
  "language_info": {
   "codemirror_mode": {
    "name": "ipython",
    "version": 2
   },
   "file_extension": ".py",
   "mimetype": "text/x-python",
   "name": "python",
   "nbconvert_exporter": "python",
   "pygments_lexer": "ipython2",
   "version": "2.7.6"
  }
 },
 "nbformat": 4,
 "nbformat_minor": 1
}
